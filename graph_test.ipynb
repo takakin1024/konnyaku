{
 "cells": [
  {
   "cell_type": "code",
   "execution_count": null,
   "metadata": {},
   "outputs": [],
   "source": [
    "from scipy.spatial.distance import cdist\n",
    "import pandas as pd\n",
    "import torch\n",
    "import torch_geometric\n",
    "from torch_geometric.data import Data, DataLoader\n"
   ]
  },
  {
   "cell_type": "code",
   "execution_count": null,
   "metadata": {},
   "outputs": [],
   "source": [
    "\n",
    "\n",
    "# CSVファイルを読み込み\n",
    "data = pd.read_csv('/home/takakin/Konjac/data/data_2018to2019.csv')\n",
    "\n",
    "# 「農地以外」を除外し、インデックスをリセット\n",
    "data = data[data['Crop'] != '農地以外'].reset_index(drop=True)\n",
    "\n",
    "# 作付品目+発病指数をワンホットエンコーディング\n",
    "CropDis_dummies = pd.get_dummies(data['Crop+Dis'], prefix='作付')\n",
    "data = pd.concat([data, CropDis_dummies], axis=1)\n",
    "data"
   ]
  },
  {
   "cell_type": "code",
   "execution_count": null,
   "metadata": {},
   "outputs": [],
   "source": [
    "# 緯度経度を配列に変換\n",
    "location = data[['lati', 'long']].values\n",
    "\n",
    "# 全ての圃場間の距離を計算\n",
    "distances = cdist(location, location, metric='euclidean')\n",
    "\n",
    "# エッジの最大距離を設定 \n",
    "max_distance = 0.001\n",
    "\n",
    "# グラフデータセットを初期化\n",
    "graph_dataset = []"
   ]
  },
  {
   "cell_type": "code",
   "execution_count": null,
   "metadata": {},
   "outputs": [],
   "source": [
    "# 各圃場のグラフを作成\n",
    "for i, row1 in data.iterrows():\n",
    "    node_features = []\n",
    "    node_feature = row1[CropDis_dummies.columns].values\n",
    "    node_features.append(node_feature)\n",
    "\n",
    "    # 翌年の発病程度 (next_Dis) を二値ラベルに変換\n",
    "    next_disease_level = row1['next_Dis']\n",
    "    label = 0 if next_disease_level in [0, 1] else 1\n",
    "\n",
    "    edges = []\n",
    "    edge_features = []\n",
    "    for j, row2 in data.iterrows():\n",
    "        if i != j:\n",
    "            distance = distances[i, j]\n",
    "            if distance <= max_distance:\n",
    "                # 一定距離以内の圃場のノードとエッジを追加\n",
    "                # ノード追加\n",
    "                neighbor_feature = row2[CropDis_dummies.columns].values\n",
    "                node_features.append(neighbor_feature)\n",
    "\n",
    "                # エッジ追加\n",
    "                edges.append([i, j])  \n",
    "                edge_feature = (max_distance - distance) / max_distance\n",
    "                edge_features.append(edge_feature)\n",
    "\n",
    "    # データをPyTorch Tensorに変換\n",
    "    node_features = torch.tensor(node_features, dtype=torch.float)\n",
    "    label = torch.tensor([label], dtype=torch.float)\n",
    "    edges = torch.tensor(edges, dtype=torch.long).t().contiguous()  # (2, E) の形状に変換\n",
    "    edge_features = torch.tensor(edge_features, dtype=torch.float).view(-1, 1)  # (E, 1) の形状に変換\n",
    "\n",
    "    # Data オブジェクトを作成\n",
    "    graph_data = Data(x=node_features, edge_index=edges, edge_attr=edge_features, y=label)\n",
    "    graph_dataset.append(graph_data)\n",
    "\n",
    "# 作成したグラフの数を確認\n",
    "num_graphs = len(graph_dataset)\n",
    "print(f\"作成したグラフの数: {num_graphs}\")\n",
    "graph_dataset\n"
   ]
  }
 ],
 "metadata": {
  "language_info": {
   "name": "python"
  },
  "orig_nbformat": 4
 },
 "nbformat": 4,
 "nbformat_minor": 2
}
